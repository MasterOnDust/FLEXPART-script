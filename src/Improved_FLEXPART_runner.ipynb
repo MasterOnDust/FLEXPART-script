{
 "cells": [
  {
   "cell_type": "code",
   "execution_count": 1,
   "metadata": {},
   "outputs": [],
   "source": [
    "import os"
   ]
  },
  {
   "cell_type": "code",
   "execution_count": null,
   "metadata": {},
   "outputs": [],
   "source": [
    "def run_simulation(path, start_date, end_date, time_step='3h'):\n",
    "    if path.\n",
    "    try:\n",
    "        os.mkdir(path)\n",
    "    except FileExistsError:\n",
    "        askConfirmation = input(\"\"\"This folder already exists,\n",
    "        do you want to delete it? (y/n)\"\"\")\n",
    "        if askConfirmation.strip() == 'y':\n",
    "            shutil.rmtree(path)\n",
    "            os.mkdir(path)\n",
    "        else:\n",
    "            sys.exit()\n",
    "    os.mkdir(path)"
   ]
  },
  {
   "cell_type": "code",
   "execution_count": null,
   "metadata": {},
   "outputs": [],
   "source": [
    "def submit_job(dateI, folderName):\n",
    "#   Should make jobfile configurable from simulation.py\n",
    "    str_date = dateI.strftime(\"%Y%m%d-%H\")\n",
    "    job_file = folderName + '/submit_' + dateI.strftime(\"%Y%m%d_%H\") + '.sh'\n",
    "    settings = sim.JOBSCRIPT.job_params\n",
    "    with open(job_file, 'w') as fh:\n",
    "        fh.writelines(\"#!/bin/bash\\n\")\n",
    "        for option, setting in settings.items():\n",
    "            fh.writelines(\"#SBATCH --{}={}\\n\".format(option,setting))\n",
    "        fh.writelines(\"#SBATCH --job-name=FLEXPART_{}\\n\".format(str_date))\n",
    "        fh.writelines(\"#SBATCH --error={}/out_{}.err\\n\".format(folderName,str_date))\n",
    "        fh.writelines(\"#SBATCH --output={}/out_{}.out\\n\".format(folderName,str_date))\n",
    "        fh.writelines(\"#SBATCH --mail-type=FAIL\\n\")\n",
    "        fh.writelines('set -o errexit\\n')\n",
    "        fh.writelines('set -o nounset\\n')\n",
    "        fh.writelines('module --quiet purge\\n')\n",
    "\n",
    "        fh.writelines('module load ecCodes/2.9.2-intel-2018b\\n')\n",
    "        fh.writelines('module load netCDF-Fortran/4.4.4-intel-2018b\\n')\n",
    "        fh.writelines('export PATH={}:$PATH\\n'.format(sim.flexpart_src))\n",
    "        fh.writelines('cd {}\\n'.format(folderName))\n",
    "        fh.writelines(\"time FLEXPART\\n\")\n",
    "\n",
    "        fh.writelines('echo \\\"{} ,       COMPLETED \\\" >> {}/COMPLETED_RUNS \\n'.format(folderName,sim.abs_path))\n",
    "        fh.writelines('exit 0' )"
   ]
  }
 ],
 "metadata": {
  "kernelspec": {
   "display_name": "Python 3",
   "language": "python",
   "name": "python3"
  },
  "language_info": {
   "codemirror_mode": {
    "name": "ipython",
    "version": 3
   },
   "file_extension": ".py",
   "mimetype": "text/x-python",
   "name": "python",
   "nbconvert_exporter": "python",
   "pygments_lexer": "ipython3",
   "version": "3.8.3"
  }
 },
 "nbformat": 4,
 "nbformat_minor": 4
}
